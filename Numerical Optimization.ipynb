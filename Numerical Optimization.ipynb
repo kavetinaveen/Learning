{
 "cells": [
  {
   "cell_type": "markdown",
   "metadata": {},
   "source": [
    "# Numerical Optimization"
   ]
  },
  {
   "cell_type": "code",
   "execution_count": 225,
   "metadata": {},
   "outputs": [
    {
     "data": {
      "text/plain": [
       "{'divide': 'warn', 'invalid': 'warn', 'over': 'ignore', 'under': 'ignore'}"
      ]
     },
     "execution_count": 225,
     "metadata": {},
     "output_type": "execute_result"
    }
   ],
   "source": [
    "# Importing required packages\n",
    "import numpy as np\n",
    "import pandas as pd         \n",
    "import random\n",
    "import cv2\n",
    "from random import shuffle \n",
    "from tqdm import tqdm\n",
    "import sys\n",
    "import os\n",
    "from sklearn.linear_model import LogisticRegression\n",
    "from sklearn import preprocessing\n",
    "from sklearn import metrics\n",
    "import matplotlib.pyplot as plt\n",
    "\n",
    "%matplotlib inline\n",
    "np.seterr(over = \"ignore\")"
   ]
  },
  {
   "cell_type": "markdown",
   "metadata": {},
   "source": [
    "### Predicting Blood Donations\n",
    "\n",
    "The following dataset is from a mobile blood donation vehicle in Taiwan. Objective is to predict whether or not a donor will give blood the next time the vehicle comes to campus. You can download data from [here](https://www.drivendata.org/competitions/2/warm-up-predict-blood-donations/).\n",
    "\n",
    "Data is courtesy of Yeh, I-Cheng via the [UCI Machine Learning repository](https://archive.ics.uci.edu/ml/datasets/Blood+Transfusion+Service+Center)\n",
    "\n",
    "**Variable Description:**\n",
    "\n",
    "* Months since Last Donation: this is the number of monthis since this donor's most recent donation.\n",
    "* Number of Donations: this is the total number of donations that the donor has made.\n",
    "* Total Volume Donated: this is the total amound of blood that the donor has donated in cubuc centimeters.\n",
    "* Months since First Donation: this is the number of months since the donor's first donation.\n",
    "* Made Donation in March 2007: this is the binary target variable, 1 if donated and 0 otherwise.\n",
    "\n",
    "**Disclaimer:** I am not taking care of generalization error, only trying to optimize loss in the train data."
   ]
  },
  {
   "cell_type": "code",
   "execution_count": 118,
   "metadata": {},
   "outputs": [
    {
     "data": {
      "text/html": [
       "<div>\n",
       "<table border=\"1\" class=\"dataframe\">\n",
       "  <thead>\n",
       "    <tr style=\"text-align: right;\">\n",
       "      <th></th>\n",
       "      <th>Unnamed: 0</th>\n",
       "      <th>Months since Last Donation</th>\n",
       "      <th>Number of Donations</th>\n",
       "      <th>Total Volume Donated (c.c.)</th>\n",
       "      <th>Months since First Donation</th>\n",
       "      <th>Made Donation in March 2007</th>\n",
       "    </tr>\n",
       "  </thead>\n",
       "  <tbody>\n",
       "    <tr>\n",
       "      <th>0</th>\n",
       "      <td>619</td>\n",
       "      <td>2</td>\n",
       "      <td>50</td>\n",
       "      <td>12500</td>\n",
       "      <td>98</td>\n",
       "      <td>1</td>\n",
       "    </tr>\n",
       "    <tr>\n",
       "      <th>1</th>\n",
       "      <td>664</td>\n",
       "      <td>0</td>\n",
       "      <td>13</td>\n",
       "      <td>3250</td>\n",
       "      <td>28</td>\n",
       "      <td>1</td>\n",
       "    </tr>\n",
       "    <tr>\n",
       "      <th>2</th>\n",
       "      <td>441</td>\n",
       "      <td>1</td>\n",
       "      <td>16</td>\n",
       "      <td>4000</td>\n",
       "      <td>35</td>\n",
       "      <td>1</td>\n",
       "    </tr>\n",
       "    <tr>\n",
       "      <th>3</th>\n",
       "      <td>160</td>\n",
       "      <td>2</td>\n",
       "      <td>20</td>\n",
       "      <td>5000</td>\n",
       "      <td>45</td>\n",
       "      <td>1</td>\n",
       "    </tr>\n",
       "    <tr>\n",
       "      <th>4</th>\n",
       "      <td>358</td>\n",
       "      <td>1</td>\n",
       "      <td>24</td>\n",
       "      <td>6000</td>\n",
       "      <td>77</td>\n",
       "      <td>0</td>\n",
       "    </tr>\n",
       "  </tbody>\n",
       "</table>\n",
       "</div>"
      ],
      "text/plain": [
       "   Unnamed: 0  Months since Last Donation  Number of Donations  \\\n",
       "0         619                           2                   50   \n",
       "1         664                           0                   13   \n",
       "2         441                           1                   16   \n",
       "3         160                           2                   20   \n",
       "4         358                           1                   24   \n",
       "\n",
       "   Total Volume Donated (c.c.)  Months since First Donation  \\\n",
       "0                        12500                           98   \n",
       "1                         3250                           28   \n",
       "2                         4000                           35   \n",
       "3                         5000                           45   \n",
       "4                         6000                           77   \n",
       "\n",
       "   Made Donation in March 2007  \n",
       "0                            1  \n",
       "1                            1  \n",
       "2                            1  \n",
       "3                            1  \n",
       "4                            0  "
      ]
     },
     "execution_count": 118,
     "metadata": {},
     "output_type": "execute_result"
    }
   ],
   "source": [
    "# Reading Blood donations data\n",
    "train = pd.read_csv(\"../Warm Up_Predict Blood Donations/train.csv\")\n",
    "test = pd.read_csv(\"../Warm Up_Predict Blood Donations/test.csv\")\n",
    "train.head()"
   ]
  },
  {
   "cell_type": "markdown",
   "metadata": {
    "collapsed": true
   },
   "source": [
    "### Data Pre-processing"
   ]
  },
  {
   "cell_type": "code",
   "execution_count": 206,
   "metadata": {
    "collapsed": true
   },
   "outputs": [],
   "source": [
    "train.columns = ['ID'] + train.columns.tolist()[1:]\n",
    "test.columns = ['ID'] + test.columns.tolist()[1:]\n",
    "y = \"Made Donation in March 2007\"\n",
    "feats = [\"Months since Last Donation\", \"Number of Donations\", \"Total Volume Donated (c.c.)\", \"Months since First Donation\"]\n",
    "X_train = train.loc[:, train.columns != y]\n",
    "X_train = X_train.loc[:, X_train.columns != \"ID\"]\n",
    "Y = train[y]\n",
    "scaler = preprocessing.StandardScaler().fit(X_train)\n",
    "X_train = scaler.transform(X_train)"
   ]
  },
  {
   "cell_type": "markdown",
   "metadata": {},
   "source": [
    "### Sigmoid Function"
   ]
  },
  {
   "cell_type": "code",
   "execution_count": 120,
   "metadata": {
    "collapsed": true
   },
   "outputs": [],
   "source": [
    "def prob(z):\n",
    "    return 1/(1+np.exp(-z))"
   ]
  },
  {
   "cell_type": "markdown",
   "metadata": {},
   "source": [
    "### Logistic Loss Function"
   ]
  },
  {
   "cell_type": "code",
   "execution_count": 121,
   "metadata": {
    "collapsed": true
   },
   "outputs": [],
   "source": [
    "def lnL(params, x_train, y_train):\n",
    "    m = x_train.shape[0]\n",
    "    n = x_train.shape[1]\n",
    "    Xbeta = np.matmul(x_train, params)\n",
    "    h = prob(Xbeta)\n",
    "    h[h == 1] = 0.99\n",
    "    h[h == 0] = 0.01\n",
    "    result = -np.sum((y_train * np.log(h)) + ((1 - y_train) * np.log(1 - h)))/m\n",
    "    return result, h"
   ]
  },
  {
   "cell_type": "markdown",
   "metadata": {},
   "source": [
    "### To compute gradient for logistic loss function"
   ]
  },
  {
   "cell_type": "code",
   "execution_count": 122,
   "metadata": {
    "collapsed": true
   },
   "outputs": [],
   "source": [
    "def evaluate_gradient(loss_function, x_train, y_train, params):\n",
    "    cost, scores = loss_function(params, x_train, y_train)\n",
    "    dfbydx = np.matmul(y_train - scores, x_train)\n",
    "    return dfbydx "
   ]
  },
  {
   "cell_type": "markdown",
   "metadata": {},
   "source": [
    "### Linear Search Function to decide learning rate"
   ]
  },
  {
   "cell_type": "code",
   "execution_count": 123,
   "metadata": {
    "collapsed": true
   },
   "outputs": [],
   "source": [
    "def LineSearch(f, params, g, g2, x_train, y_train, rho = 0.5, c = 1e-4):\n",
    "    alphak = 0.5 # Start with big step size\n",
    "    t = c*g2\n",
    "    step0_sol, step0_scores = lnL(params, x_train, y_train)\n",
    "    step1_sol, step1_scores = lnL(params + alphak*g, x_train, y_train)\n",
    "    k = 1\n",
    "    while (step1_sol - step0_sol) > alphak*t:\n",
    "        alphak = alphak*rho\n",
    "        if k == 10:\n",
    "            break\n",
    "        k = k + 1\n",
    "    return alphak"
   ]
  },
  {
   "cell_type": "markdown",
   "metadata": {},
   "source": [
    "### Main Function - It consists of few variants of gradient-based optimization"
   ]
  },
  {
   "cell_type": "code",
   "execution_count": 366,
   "metadata": {
    "collapsed": true
   },
   "outputs": [],
   "source": [
    "def XGD(n, params, f, grad, x_train, y_train, ls, learn_rate = 0.05, use_ls = True, epsilon = 1e-05, batch_size = 50, update_rule = None, plot = True):\n",
    "    f0_sol, f0_scores = f(params, x_train, y_train)\n",
    "    init_sol = np.append(params, f0_sol)\n",
    "    final_res = pd.DataFrame(init_sol.reshape(-1, len(init_sol)))\n",
    "    k = 0\n",
    "    prev = np.inf\n",
    "    m = x_train.shape[0]\n",
    "    ind = np.arange(x_train.shape[0])\n",
    "    np.random.shuffle(ind)\n",
    "    x_train = x_train[ind]\n",
    "    y_train = y_train[ind]\n",
    "    nbatches = np.int(np.floor(m/batch_size))\n",
    "    mbgd_train = np.array_split(x_train, nbatches)\n",
    "    vt = 0\n",
    "    gamma = 0.9\n",
    "    cummulative_g = 0\n",
    "    g_list = np.empty((0, x_train.shape[1]), float)\n",
    "    delta_p_list = np.ones((x_train.shape[1])) * learn_rate\n",
    "    g_adadelta = np.zeros(x_train.shape[1])\n",
    "    beta_1 = 0.9\n",
    "    beta_2 = 0.1\n",
    "    m = 0\n",
    "    v = 0\n",
    "    t = 0\n",
    "    for i in range(n):\n",
    "        for j in range(nbatches):\n",
    "            one_batch = mbgd_train[j]\n",
    "            g = grad(f, x_train, y_train, params)\n",
    "            if use_ls:\n",
    "                g2 = np.matmul(g, g)\n",
    "                alpha = ls(f, params, g, g2, x_train, y_train)\n",
    "            else:\n",
    "                alpha = learn_rate\n",
    "            if update_rule is None:\n",
    "                delta = alpha * g\n",
    "                params = params + delta\n",
    "            elif update_rule == \"Momentum\":\n",
    "                vt = gamma*vt + alpha * g\n",
    "                params = params + vt\n",
    "            elif update_rule == \"NAG\":\n",
    "                nag_g = grad(f, x_train, y_train, params-gamma*vt)\n",
    "                vt = gamma*vt + alpha * nag_g\n",
    "                params = params + vt\n",
    "            elif update_rule == \"Adagrad\":\n",
    "                cummulative_g = cummulative_g + np.square(g/max(g))\n",
    "                G = np.diag(cummulative_g) + epsilon\n",
    "                G = np.linalg.inv(np.sqrt(G))\n",
    "                delta = alpha * np.matmul(G, g)\n",
    "                params = params +  delta\n",
    "            elif update_rule == \"RMSprop\":\n",
    "                g_list = np.vstack((g_list, g/max(g)))\n",
    "                exp_weights = np.asarray([np.exp(-x) for x in range(len(g_list))])\n",
    "                exp_weights = exp_weights/sum(exp_weights)\n",
    "                exp_weights = exp_weights[::-1]\n",
    "                exp_avg = 0\n",
    "                for i in range(len(exp_weights)):\n",
    "                    exp_avg = exp_avg + exp_weights[i] * np.square(g_list[i])\n",
    "                temp = exp_avg + epsilon\n",
    "                temp = 1/np.sqrt(temp)\n",
    "                delta_p = alpha*temp*g\n",
    "                params = params +  delta_p\n",
    "            elif update_rule == \"Adadelta\":\n",
    "                g_list = np.vstack((g_list, g/max(g)))\n",
    "                exp_weights = np.asarray([np.exp(-x) for x in range(len(g_list))])\n",
    "                exp_weights = exp_weights/sum(exp_weights)\n",
    "                exp_weights = exp_weights[::-1]\n",
    "                exp_avg = 0\n",
    "                exp_avg_delta = 0\n",
    "                for i in range(len(exp_weights)):\n",
    "                    exp_avg = exp_avg + exp_weights[i] * np.square(g_list[i])\n",
    "                    exp_avg_delta = exp_avg_delta + exp_weights[i] * np.square(delta_p_list[i])\n",
    "                temp = exp_avg + epsilon\n",
    "                temp = np.sqrt(temp)\n",
    "                temp_2 = exp_avg_delta + epsilon\n",
    "                temp_2 = np.sqrt(temp_2)\n",
    "                delta_p = (temp_2/temp)*g\n",
    "                delta_p_list = np.vstack((delta_p_list, delta_p/max(delta_p)))\n",
    "                params = params +  delta_p\n",
    "            elif update_rule == \"Adam\":\n",
    "                t = t + 1\n",
    "                m = beta_1 * m + (1 - beta_1)*(g/max(g))\n",
    "                v = beta_2 * v + (1 - beta_2)*np.square(g/max(g))\n",
    "                m_hat = m/(1 - (beta_1**t))\n",
    "                v_hat = v/(1 - (beta_2**t))\n",
    "                delta = alpha * (m/(np.sqrt(v)+epsilon))\n",
    "                #print(delta)\n",
    "                params = params + delta\n",
    "            fi_sol, fi_scores = f(params, x_train, y_train)\n",
    "            final_res = pd.concat([final_res, pd.DataFrame([np.append(params, [fi_sol])])])\n",
    "            if abs(prev - fi_sol) < epsilon:\n",
    "                k = k + 1\n",
    "            else:\n",
    "                k = 0\n",
    "            if k > 10:\n",
    "                break\n",
    "            prev = fi_sol\n",
    "            sys.stdout.write(\"\\r\" + \"Iteration no. {} | Batch no. {} | Cost {}\".format(i, j, fi_sol))\n",
    "    final_res.reset_index(drop = True,inplace = True)\n",
    "    final_res.columns = feats + ['Cost']\n",
    "    print(\"\\nOptimal Cost: {}\".format(min(final_res[\"Cost\"])))\n",
    "    if plot == True:\n",
    "        plt.plot(final_res[\"Cost\"])\n",
    "        plt.ylabel('Iterations')\n",
    "        plt.show()\n",
    "    return final_res"
   ]
  },
  {
   "cell_type": "markdown",
   "metadata": {},
   "source": [
    "### Setting Parameters"
   ]
  },
  {
   "cell_type": "code",
   "execution_count": 125,
   "metadata": {
    "collapsed": true
   },
   "outputs": [],
   "source": [
    "lb = -3\n",
    "ub = 3\n",
    "n = 100\n",
    "params = [random.random() for x in range(X_train.shape[1])]\n",
    "params = [lb + x*(ub-lb) for x in params]\n",
    "params = np.asarray(params)"
   ]
  },
  {
   "cell_type": "markdown",
   "metadata": {},
   "source": [
    "### Batch Gradient Descent"
   ]
  },
  {
   "cell_type": "code",
   "execution_count": 126,
   "metadata": {},
   "outputs": [
    {
     "name": "stdout",
     "output_type": "stream",
     "text": [
      "Iteration no. 99 | Batch no. 0 | Cost 0.646776896286"
     ]
    },
    {
     "data": {
      "image/png": "[encoded data removed]",
      "text/plain": [
       "<matplotlib.figure.Figure at 0x10c13e310>"
      ]
     },
     "metadata": {},
     "output_type": "display_data"
    }
   ],
   "source": [
    "bs = X_train.shape[0] # Change this to 1 for Stochastic GD and number between 1 to X_train.shape[0] for Mini-Batch GD\n",
    "results_bgd = XGD(n, params, lnL, evaluate_gradient, X_train, Y, LineSearch, batch_size = bs)\n"
   ]
  },
  {
   "cell_type": "markdown",
   "metadata": {},
   "source": [
    "### Stochastic Gradient Descent"
   ]
  },
  {
   "cell_type": "code",
   "execution_count": 127,
   "metadata": {},
   "outputs": [
    {
     "name": "stdout",
     "output_type": "stream",
     "text": [
      "Iteration no. 63 | Batch no. 10 | Cost 0.643785618612"
     ]
    },
    {
     "data": {
      "image/png": "[encoded data removed]",
      "text/plain": [
       "<matplotlib.figure.Figure at 0x10bfe75d0>"
      ]
     },
     "metadata": {},
     "output_type": "display_data"
    }
   ],
   "source": [
    "bs = 1\n",
    "results_sgd = XGD(n, params, lnL, evaluate_gradient, X_train, Y, LineSearch, batch_size = bs)"
   ]
  },
  {
   "cell_type": "markdown",
   "metadata": {},
   "source": [
    "### Mini-Batch Gradient Descent"
   ]
  },
  {
   "cell_type": "code",
   "execution_count": 128,
   "metadata": {},
   "outputs": [
    {
     "name": "stdout",
     "output_type": "stream",
     "text": [
      "Iteration no. 83 | Batch no. 10 | Cost 0.643785618612"
     ]
    },
    {
     "data": {
      "image/png": "[encoded data removed]",
      "text/plain": [
       "<matplotlib.figure.Figure at 0x10ae6bb10>"
      ]
     },
     "metadata": {},
     "output_type": "display_data"
    }
   ],
   "source": [
    "bs = 50\n",
    "results_mbgd = XGD(n, params, lnL, evaluate_gradient, X_train, Y, LineSearch, batch_size = bs)"
   ]
  },
  {
   "cell_type": "markdown",
   "metadata": {},
   "source": [
    "### Comparing with Logistic Regression "
   ]
  },
  {
   "cell_type": "code",
   "execution_count": 129,
   "metadata": {},
   "outputs": [
    {
     "name": "stdout",
     "output_type": "stream",
     "text": [
      "Logistic Regression Cost: 0.655546565452 \n",
      "BGD Cost: 0.646776896286 \n",
      "SGD Cost: 0.643783857057 \n",
      "MBGD Cost: 0.643784586187\n"
     ]
    }
   ],
   "source": [
    "logisticRegr = LogisticRegression()\n",
    "logisticRegr.fit(X_train, Y)\n",
    "lr_cost, lr_scores = lnL(logisticRegr.coef_.tolist()[0], X_train, Y)\n",
    "print(\"Logistic Regression Cost: {} \\nBGD Cost: {} \\nSGD Cost: {} \\nMBGD Cost: {}\".format(lr_cost, results_bgd[\"Cost\"].min(), results_sgd[\"Cost\"].min(), results_mbgd[\"Cost\"].min()))"
   ]
  },
  {
   "cell_type": "markdown",
   "metadata": {},
   "source": [
    "### Momentum"
   ]
  },
  {
   "cell_type": "code",
   "execution_count": 130,
   "metadata": {},
   "outputs": [
    {
     "name": "stdout",
     "output_type": "stream",
     "text": [
      "Iteration no. 95 | Batch no. 0 | Cost 0.643786254498"
     ]
    },
    {
     "data": {
      "image/png": "[encoded data removed]",
      "text/plain": [
       "<matplotlib.figure.Figure at 0x10ea8ca90>"
      ]
     },
     "metadata": {},
     "output_type": "display_data"
    }
   ],
   "source": [
    "ur = \"Momentum\"\n",
    "bs = X_train.shape[0]\n",
    "results_momentum = XGD(n, params, lnL, evaluate_gradient, X_train, Y, LineSearch, batch_size = bs, update_rule = ur)"
   ]
  },
  {
   "cell_type": "markdown",
   "metadata": {},
   "source": [
    "### Nesterov accelerated gradient"
   ]
  },
  {
   "cell_type": "code",
   "execution_count": 131,
   "metadata": {},
   "outputs": [
    {
     "name": "stdout",
     "output_type": "stream",
     "text": [
      "Iteration no. 99 | Batch no. 0 | Cost 0.656565618632"
     ]
    },
    {
     "data": {
      "image/png": "[encoded data removed]",
      "text/plain": [
       "<matplotlib.figure.Figure at 0x10bdf8550>"
      ]
     },
     "metadata": {},
     "output_type": "display_data"
    }
   ],
   "source": [
    "ur = \"NAG\"\n",
    "bs = X_train.shape[0]\n",
    "results_nag = XGD(n, params, lnL, evaluate_gradient, X_train, Y, LineSearch, batch_size = bs, update_rule = ur)"
   ]
  },
  {
   "cell_type": "markdown",
   "metadata": {},
   "source": [
    "### Adagrad"
   ]
  },
  {
   "cell_type": "code",
   "execution_count": 132,
   "metadata": {},
   "outputs": [
    {
     "name": "stdout",
     "output_type": "stream",
     "text": [
      "Iteration no. 99 | Batch no. 0 | Cost 0.644078568352"
     ]
    },
    {
     "data": {
      "image/png": "[encoded data removed]",
      "text/plain": [
       "<matplotlib.figure.Figure at 0x10ea8ce50>"
      ]
     },
     "metadata": {},
     "output_type": "display_data"
    }
   ],
   "source": [
    "ur = \"Adagrad\"\n",
    "bs = X_train.shape[0]\n",
    "results_adagrad = XGD(n, params, lnL, evaluate_gradient, X_train, Y, LineSearch, batch_size = bs, update_rule = ur, use_ls=False, learn_rate=0.2)"
   ]
  },
  {
   "cell_type": "markdown",
   "metadata": {},
   "source": [
    "### RMSprop"
   ]
  },
  {
   "cell_type": "code",
   "execution_count": 133,
   "metadata": {},
   "outputs": [
    {
     "name": "stdout",
     "output_type": "stream",
     "text": [
      "Iteration no. 217 | Batch no. 8 | Cost 0.6437995468857"
     ]
    },
    {
     "data": {
      "image/png": "[encoded data removed]",
      "text/plain": [
       "<matplotlib.figure.Figure at 0x10cfb3810>"
      ]
     },
     "metadata": {},
     "output_type": "display_data"
    }
   ],
   "source": [
    "ur = \"RMSprop\"\n",
    "bs = 50\n",
    "results_rmsprop = XGD(n, params, lnL, evaluate_gradient, X_train, Y, LineSearch, batch_size = bs, update_rule = ur, use_ls=False, learn_rate=0.01)\n"
   ]
  },
  {
   "cell_type": "markdown",
   "metadata": {},
   "source": [
    "### Adadelta"
   ]
  },
  {
   "cell_type": "code",
   "execution_count": 134,
   "metadata": {},
   "outputs": [
    {
     "name": "stdout",
     "output_type": "stream",
     "text": [
      "Iteration no. 93 | Batch no. 0 | Cost 0.643884175164"
     ]
    },
    {
     "data": {
      "image/png": "[encoded data removed]",
      "text/plain": [
       "<matplotlib.figure.Figure at 0x10ea0d310>"
      ]
     },
     "metadata": {},
     "output_type": "display_data"
    }
   ],
   "source": [
    "ur = \"Adadelta\"\n",
    "bs = X_train.shape[0]\n",
    "results_adadelta = XGD(n, params, lnL, evaluate_gradient, X_train, Y, LineSearch, batch_size = bs, update_rule = ur, use_ls = True, learn_rate = 0.1)\n"
   ]
  },
  {
   "cell_type": "markdown",
   "metadata": {},
   "source": [
    "### Dogs vs. Cats example from Kaggle"
   ]
  },
  {
   "cell_type": "code",
   "execution_count": 147,
   "metadata": {
    "collapsed": true
   },
   "outputs": [],
   "source": [
    "def create_label(image_name):\n",
    "    \"\"\" Create an one-hot encoded vector from image name \"\"\"\n",
    "    word_label = image_name.split('.')[-3]\n",
    "    if word_label == 'cat':\n",
    "        return np.array([1,0])\n",
    "    elif word_label == 'dog':\n",
    "        return np.array([0,1])"
   ]
  },
  {
   "cell_type": "code",
   "execution_count": 148,
   "metadata": {
    "collapsed": true
   },
   "outputs": [],
   "source": [
    "def create_train_data():\n",
    "    training_data = []\n",
    "    for img in tqdm(os.listdir(TRAIN_DIR)):\n",
    "        path = os.path.join(TRAIN_DIR, img)\n",
    "        img_data = cv2.imread(path, cv2.IMREAD_GRAYSCALE)\n",
    "        img_data = cv2.resize(img_data, (IMG_SIZE, IMG_SIZE))\n",
    "        training_data.append([np.array(img_data), create_label(img)])\n",
    "    shuffle(training_data)\n",
    "    np.save('train_data.npy', training_data)\n",
    "    return training_data"
   ]
  },
  {
   "cell_type": "code",
   "execution_count": 149,
   "metadata": {
    "scrolled": true
   },
   "outputs": [
    {
     "name": "stderr",
     "output_type": "stream",
     "text": [
      "100%|██████████| 25000/25000 [00:30<00:00, 824.11it/s]\n"
     ]
    }
   ],
   "source": [
    "IMG_SIZE = 50\n",
    "TRAIN_DIR = \"train\"\n",
    "train_data = create_train_data()"
   ]
  },
  {
   "cell_type": "markdown",
   "metadata": {},
   "source": [
    "### Data Pre-processing"
   ]
  },
  {
   "cell_type": "code",
   "execution_count": 233,
   "metadata": {
    "collapsed": true
   },
   "outputs": [],
   "source": [
    "train_features = [train_data[x][0].flatten() for x in range(len(train_data))]\n",
    "train_features = pd.DataFrame(train_features)\n",
    "train_y = [train_data[x][1].flatten() for x in range(len(train_data))]\n",
    "train_y = pd.DataFrame(train_y)\n",
    "train_features[\"is_dog\"] = train_y.loc[:,1]"
   ]
  },
  {
   "cell_type": "code",
   "execution_count": 253,
   "metadata": {
    "collapsed": true
   },
   "outputs": [],
   "source": [
    "y = \"is_dog\"\n",
    "feats = [\"f_\"+str(x) for x in range(train_features.shape[1]-1)]\n",
    "train_features.columns = feats + [y]\n",
    "X_train = train_features.loc[:, train_features.columns != y]\n",
    "Y = train_features[y]\n",
    "scaler = preprocessing.StandardScaler().fit(X_train)\n",
    "X_train = scaler.transform(X_train)"
   ]
  },
  {
   "cell_type": "markdown",
   "metadata": {},
   "source": [
    "### Setting Parameters"
   ]
  },
  {
   "cell_type": "code",
   "execution_count": 285,
   "metadata": {
    "collapsed": true
   },
   "outputs": [],
   "source": [
    "lb = -3\n",
    "ub = 3\n",
    "n = 100\n",
    "params = [random.random() for x in range(X_train.shape[1])]\n",
    "params = [lb + x*(ub-lb) for x in params]\n",
    "params = np.asarray(params)"
   ]
  },
  {
   "cell_type": "markdown",
   "metadata": {},
   "source": [
    "### Batch Gradient Descent"
   ]
  },
  {
   "cell_type": "code",
   "execution_count": 323,
   "metadata": {},
   "outputs": [
    {
     "name": "stdout",
     "output_type": "stream",
     "text": [
      "Iteration no. 99 | Batch no. 0 | Cost 2.24644315393\n",
      "Optimal Cost: 2.15909598736\n"
     ]
    },
    {
     "data": {
      "image/png": "[encoded data removed]",
      "text/plain": [
       "<matplotlib.figure.Figure at 0x11668bb10>"
      ]
     },
     "metadata": {},
     "output_type": "display_data"
    }
   ],
   "source": [
    "bs = X_train.shape[0] # Change this to 1 for Stochastic GD and number between 1 to X_train.shape[0] for Mini-Batch GD\n",
    "results_bgd = XGD(n, params, lnL, evaluate_gradient, X_train, Y, LineSearch, batch_size = bs)"
   ]
  },
  {
   "cell_type": "markdown",
   "metadata": {},
   "source": [
    "### Mini-Batch Gradient Descent"
   ]
  },
  {
   "cell_type": "code",
   "execution_count": 259,
   "metadata": {},
   "outputs": [
    {
     "name": "stdout",
     "output_type": "stream",
     "text": [
      "Iteration no. 9 | Batch no. 49 | Cost 2.19598794537"
     ]
    },
    {
     "data": {
      "image/png": "[encoded data removed]",
      "text/plain": [
       "<matplotlib.figure.Figure at 0x10e8ee950>"
      ]
     },
     "metadata": {},
     "output_type": "display_data"
    }
   ],
   "source": [
    "bs = 500 # Change this to 1 for Stochastic GD and number between 1 to X_train.shape[0] for Mini-Batch GD\n",
    "results_bgd = XGD(10, params, lnL, evaluate_gradient, X_train, Y, LineSearch, batch_size = bs)"
   ]
  },
  {
   "cell_type": "markdown",
   "metadata": {},
   "source": [
    "### Momentum"
   ]
  },
  {
   "cell_type": "code",
   "execution_count": 269,
   "metadata": {},
   "outputs": [
    {
     "name": "stdout",
     "output_type": "stream",
     "text": [
      "Iteration no. 99 | Batch no. 0 | Cost 2.11620737381\n",
      "Optimal Cost: 2.00121187731\n"
     ]
    },
    {
     "data": {
      "image/png": "[encoded data removed]",
      "text/plain": [
       "<matplotlib.figure.Figure at 0x10c17c5d0>"
      ]
     },
     "metadata": {},
     "output_type": "display_data"
    }
   ],
   "source": [
    "ur = \"Momentum\"\n",
    "bs = X_train.shape[0]\n",
    "results_momentum = XGD(n, params, lnL, evaluate_gradient, X_train, Y, LineSearch, batch_size = bs, update_rule = ur)"
   ]
  },
  {
   "cell_type": "markdown",
   "metadata": {},
   "source": [
    "### Nesterov accelerated gradient"
   ]
  },
  {
   "cell_type": "code",
   "execution_count": 268,
   "metadata": {
    "scrolled": true
   },
   "outputs": [
    {
     "name": "stdout",
     "output_type": "stream",
     "text": [
      "Iteration no. 99 | Batch no. 0 | Cost 2.37998016158\n",
      "Optimal Cost: 2.07270773418\n"
     ]
    },
    {
     "data": {
      "image/png": "[encoded data removed]",
      "text/plain": [
       "<matplotlib.figure.Figure at 0x10c08ec10>"
      ]
     },
     "metadata": {},
     "output_type": "display_data"
    }
   ],
   "source": [
    "ur = \"NAG\"\n",
    "bs = X_train.shape[0]\n",
    "results_nag = XGD(n, params, lnL, evaluate_gradient, X_train, Y, LineSearch, batch_size = bs, update_rule = ur)"
   ]
  },
  {
   "cell_type": "markdown",
   "metadata": {},
   "source": [
    "### Adagrad"
   ]
  },
  {
   "cell_type": "code",
   "execution_count": 324,
   "metadata": {
    "scrolled": true
   },
   "outputs": [
    {
     "name": "stdout",
     "output_type": "stream",
     "text": [
      "Iteration no. 99 | Batch no. 0 | Cost 2.73011980379\n",
      "Optimal Cost: 2.38555381336\n"
     ]
    },
    {
     "data": {
      "image/png": "[encoded data removed]",
      "text/plain": [
       "<matplotlib.figure.Figure at 0x10bb15250>"
      ]
     },
     "metadata": {},
     "output_type": "display_data"
    }
   ],
   "source": [
    "ur = \"Adagrad\"\n",
    "bs = X_train.shape[0]\n",
    "results_adagrad = XGD(n, params, lnL, evaluate_gradient, X_train, Y, LineSearch, batch_size = bs, update_rule = ur, use_ls = False, learn_rate = 0.1)"
   ]
  },
  {
   "cell_type": "markdown",
   "metadata": {},
   "source": [
    "### RMSprop"
   ]
  },
  {
   "cell_type": "code",
   "execution_count": 316,
   "metadata": {},
   "outputs": [
    {
     "name": "stdout",
     "output_type": "stream",
     "text": [
      "Iteration no. 99 | Batch no. 0 | Cost 2.26284104793\n",
      "Optimal Cost: 2.19833846052\n"
     ]
    },
    {
     "data": {
      "image/png": "[encoded data removed]",
      "text/plain": [
       "<matplotlib.figure.Figure at 0x1169d5b50>"
      ]
     },
     "metadata": {},
     "output_type": "display_data"
    }
   ],
   "source": [
    "ur = \"RMSprop\"\n",
    "bs = X_train.shape[0]\n",
    "results_rmsprop = XGD(n, params, lnL, evaluate_gradient, X_train, Y, LineSearch, batch_size = bs, update_rule = ur, use_ls=False, learn_rate=0.1)\n"
   ]
  },
  {
   "cell_type": "markdown",
   "metadata": {},
   "source": [
    "### Adadelta"
   ]
  },
  {
   "cell_type": "code",
   "execution_count": 320,
   "metadata": {},
   "outputs": [
    {
     "name": "stdout",
     "output_type": "stream",
     "text": [
      "Iteration no. 99 | Batch no. 0 | Cost 2.30558398473\n",
      "Optimal Cost: 1.99529561564\n"
     ]
    },
    {
     "data": {
      "image/png": "[encoded data removed]",
      "text/plain": [
       "<matplotlib.figure.Figure at 0x116035f90>"
      ]
     },
     "metadata": {},
     "output_type": "display_data"
    }
   ],
   "source": [
    "ur = \"Adadelta\"\n",
    "bs = X_train.shape[0]\n",
    "results_adadelta = XGD(n, params, lnL, evaluate_gradient, X_train, Y, LineSearch, batch_size = bs, update_rule = ur, use_ls = True, learn_rate = 0.1)\n"
   ]
  },
  {
   "cell_type": "code",
   "execution_count": 367,
   "metadata": {},
   "outputs": [
    {
     "name": "stdout",
     "output_type": "stream",
     "text": [
      "Iteration no. 99 | Batch no. 0 | Cost 3.09809500019\n",
      "Optimal Cost: 2.77663939332\n"
     ]
    },
    {
     "data": {
      "image/png": "[encoded data removed]",
      "text/plain": [
       "<matplotlib.figure.Figure at 0x10be9fc50>"
      ]
     },
     "metadata": {},
     "output_type": "display_data"
    }
   ],
   "source": [
    "ur = \"Adam\"\n",
    "bs = X_train.shape[0]\n",
    "results_adadelta = XGD(n, params, lnL, evaluate_gradient, X_train, Y, LineSearch, batch_size = bs, update_rule = ur, use_ls = False, learn_rate = 0.1)\n"
   ]
  },
  {
   "cell_type": "code",
   "execution_count": null,
   "metadata": {
    "collapsed": true
   },
   "outputs": [],
   "source": []
  }
 ],
 "metadata": {
  "kernelspec": {
   "display_name": "Python 2",
   "language": "python",
   "name": "python2"
  },
  "language_info": {
   "codemirror_mode": {
    "name": "ipython",
    "version": 2
   },
   "file_extension": ".py",
   "mimetype": "text/x-python",
   "name": "python",
   "nbconvert_exporter": "python",
   "pygments_lexer": "ipython2",
   "version": "2.7.12"
  }
 },
 "nbformat": 4,
 "nbformat_minor": 2
}
